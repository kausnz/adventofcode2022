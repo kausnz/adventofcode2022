{
 "cells": [
  {
   "cell_type": "markdown",
   "source": [
    "# Day 1\n",
    "\n",
    "[https://adventofcode.com/2022/day/1]()"
   ],
   "metadata": {
    "collapsed": false
   }
  },
  {
   "cell_type": "code",
   "execution_count": 127,
   "metadata": {
    "collapsed": true
   },
   "outputs": [],
   "source": [
    "from collections import defaultdict"
   ]
  },
  {
   "cell_type": "code",
   "execution_count": 128,
   "outputs": [],
   "source": [
    "convert_to_calories = lambda s: int(s) if s != '' else None"
   ],
   "metadata": {
    "collapsed": false
   }
  },
  {
   "cell_type": "code",
   "execution_count": 129,
   "outputs": [],
   "source": [
    "with open('./inputs/day01_input_full.txt') as file:\n",
    "    cals = [convert_to_calories(line.rstrip()) for line in file]"
   ],
   "metadata": {
    "collapsed": false
   }
  },
  {
   "cell_type": "code",
   "execution_count": 130,
   "outputs": [],
   "source": [
    "elf_cal_map = defaultdict(list)\n",
    "elf_id = 0\n",
    "for idx, c in enumerate(cals):\n",
    "    if c is None:\n",
    "        elf_id = (elf_id + 1) if idx > 0 else 0\n",
    "    else:\n",
    "        elf_cal_map[elf_id].append(c)"
   ],
   "metadata": {
    "collapsed": false
   }
  },
  {
   "cell_type": "markdown",
   "source": [
    "### Answer 1"
   ],
   "metadata": {
    "collapsed": false
   }
  },
  {
   "cell_type": "code",
   "execution_count": 131,
   "outputs": [
    {
     "data": {
      "text/plain": "74394"
     },
     "execution_count": 131,
     "metadata": {},
     "output_type": "execute_result"
    }
   ],
   "source": [
    "top_elf = sorted(elf_cal_map.items(), key=lambda rec: sum(rec[1]), reverse=True)[0]\n",
    "sum(top_elf[1])"
   ],
   "metadata": {
    "collapsed": false
   }
  },
  {
   "cell_type": "markdown",
   "source": [
    "### Answer 2"
   ],
   "metadata": {
    "collapsed": false
   }
  },
  {
   "cell_type": "code",
   "execution_count": 132,
   "outputs": [
    {
     "data": {
      "text/plain": "212836"
     },
     "execution_count": 132,
     "metadata": {},
     "output_type": "execute_result"
    }
   ],
   "source": [
    "top_elves = sorted(elf_cal_map.items(), key=lambda rec: sum(rec[1]), reverse=True)[:3]\n",
    "sum([sum(i[1]) for i in top_elves])"
   ],
   "metadata": {
    "collapsed": false
   }
  },
  {
   "cell_type": "markdown",
   "source": [
    "Submitted answers:\n",
    "* Answer 1 = 74394\n",
    "* Answer 2 = 212836"
   ],
   "metadata": {
    "collapsed": false
   }
  }
 ],
 "metadata": {
  "kernelspec": {
   "display_name": "Python 3",
   "language": "python",
   "name": "python3"
  },
  "language_info": {
   "codemirror_mode": {
    "name": "ipython",
    "version": 2
   },
   "file_extension": ".py",
   "mimetype": "text/x-python",
   "name": "python",
   "nbconvert_exporter": "python",
   "pygments_lexer": "ipython2",
   "version": "2.7.6"
  }
 },
 "nbformat": 4,
 "nbformat_minor": 0
}
