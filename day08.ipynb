{
 "cells": [
  {
   "cell_type": "markdown",
   "metadata": {},
   "source": [
    "# Day 8\n",
    "\n",
    "[https://adventofcode.com/2022/day/8]()"
   ]
  },
  {
   "cell_type": "code",
   "execution_count": 1,
   "metadata": {
    "collapsed": false,
    "jupyter": {
     "outputs_hidden": false
    }
   },
   "outputs": [],
   "source": [
    "from typing import List\n",
    "import numpy as np"
   ]
  },
  {
   "cell_type": "code",
   "execution_count": 2,
   "metadata": {
    "collapsed": false,
    "jupyter": {
     "outputs_hidden": false
    }
   },
   "outputs": [],
   "source": [
    "with open('./inputs/day08_input_full.txt') as file:\n",
    "    lines: List = [line.rstrip().split(',') for line in file]\n",
    "    lines = [l[0] for l in lines]"
   ]
  },
  {
   "cell_type": "code",
   "execution_count": 3,
   "metadata": {
    "collapsed": false,
    "jupyter": {
     "outputs_hidden": false
    }
   },
   "outputs": [
    {
     "data": {
      "text/plain": [
       "(99, 99, 392)"
      ]
     },
     "execution_count": 3,
     "metadata": {},
     "output_type": "execute_result"
    }
   ],
   "source": [
    "WIDTH = len(lines[0])\n",
    "HEIGHT = len(lines)\n",
    "BORDER_TREES_COUNT = (WIDTH * 2) + ((HEIGHT - 2) * 2)\n",
    "WIDTH, HEIGHT, BORDER_TREES_COUNT"
   ]
  },
  {
   "cell_type": "code",
   "execution_count": 4,
   "metadata": {
    "collapsed": false,
    "jupyter": {
     "outputs_hidden": false
    }
   },
   "outputs": [],
   "source": [
    "grid = list()\n",
    "for line in lines:\n",
    "    grid.append([int(l) for l in list(line)])\n",
    "grid = np.array(grid)"
   ]
  },
  {
   "cell_type": "code",
   "execution_count": 5,
   "metadata": {
    "collapsed": false,
    "jupyter": {
     "outputs_hidden": false
    }
   },
   "outputs": [],
   "source": [
    "ii_start = 0 + 1\n",
    "ii_end = HEIGHT - 2\n",
    "jj_start = 0 + 1\n",
    "jj_end = WIDTH - 2"
   ]
  },
  {
   "cell_type": "markdown",
   "metadata": {},
   "source": [
    "### Answer 1"
   ]
  },
  {
   "cell_type": "code",
   "execution_count": 6,
   "metadata": {
    "collapsed": false,
    "jupyter": {
     "outputs_hidden": false
    }
   },
   "outputs": [],
   "source": [
    "visible = list()\n",
    "chosen_tree_coords = list()\n",
    "\n",
    "for ii in range(ii_start, ii_end + 1):\n",
    "    for jj in range(jj_start, jj_end + 1):\n",
    "        row = grid[ii]\n",
    "        col = grid.transpose()[jj]\n",
    "        # print(f'inspecting --> {(row, col)}')\n",
    "        if grid[ii][jj] > max(row[0:jj]) or grid[ii][jj] > max(row[jj + 1:]) or grid[ii][jj] > max(col[0:ii]) or grid[ii][jj] > max(col[ii + 1:]):\n",
    "            # print(f'==> found at {(ii, jj)}')\n",
    "            visible.append(grid[ii][jj])\n",
    "            chosen_tree_coords.append((ii,jj))"
   ]
  },
  {
   "cell_type": "code",
   "execution_count": 7,
   "metadata": {
    "collapsed": false,
    "jupyter": {
     "outputs_hidden": false
    }
   },
   "outputs": [
    {
     "data": {
      "text/plain": [
       "1832"
      ]
     },
     "execution_count": 7,
     "metadata": {},
     "output_type": "execute_result"
    }
   ],
   "source": [
    "len(visible) + BORDER_TREES_COUNT"
   ]
  },
  {
   "cell_type": "markdown",
   "metadata": {},
   "source": [
    "### Answer 2"
   ]
  },
  {
   "cell_type": "code",
   "execution_count": 8,
   "metadata": {
    "collapsed": false,
    "jupyter": {
     "outputs_hidden": false
    }
   },
   "outputs": [],
   "source": [
    "def distance_to_same_or_taller(trees_in_direction):\n",
    "    if len(trees_in_direction) == 1:\n",
    "        return 0\n",
    "\n",
    "    h = trees_in_direction[0]\n",
    "    count = 0\n",
    "    for t in trees_in_direction[1:]:\n",
    "            count += 1\n",
    "            if t >= h:\n",
    "                break\n",
    "    return count\n"
   ]
  },
  {
   "cell_type": "code",
   "execution_count": 9,
   "metadata": {},
   "outputs": [],
   "source": [
    "scenic_score_all_trees = list()\n",
    "\n",
    "for i in range(0, HEIGHT):\n",
    "    for j in range(0, WIDTH):\n",
    "        row = grid[i]\n",
    "        col = grid.transpose()[j]\n",
    "        # print(f'inspecting --> {(row, col)}')\n",
    "        to_left = distance_to_same_or_taller(row[j::-1])\n",
    "        to_right = distance_to_same_or_taller(row[j:])\n",
    "        to_top = distance_to_same_or_taller(col[i::-1])\n",
    "        to_bottom = distance_to_same_or_taller(col[i:])\n",
    "        scenic_score_all_trees.append(to_left * to_right * to_top * to_bottom)\n",
    "        "
   ]
  },
  {
   "cell_type": "code",
   "execution_count": 10,
   "metadata": {},
   "outputs": [
    {
     "data": {
      "text/plain": [
       "157320"
      ]
     },
     "execution_count": 10,
     "metadata": {},
     "output_type": "execute_result"
    }
   ],
   "source": [
    "max(scenic_score_all_trees)"
   ]
  },
  {
   "cell_type": "code",
   "execution_count": 11,
   "metadata": {},
   "outputs": [],
   "source": [
    "# scenic_score_selected_trees = list()\n",
    "\n",
    "# for coords in chosen_tree_coords:\n",
    "#     i, j = coords\n",
    "#     row = grid[i]\n",
    "#     col = grid.transpose()[j]\n",
    "#     # print(f'inspecting --> {(row, col)}')\n",
    "#     to_left = distance_to_same_or_taller(row[j::-1])\n",
    "#     to_right = distance_to_same_or_taller(row[j:])\n",
    "#     to_top = distance_to_same_or_taller(col[i::-1])\n",
    "#     to_bottom = distance_to_same_or_taller(col[i:])\n",
    "#     scenic_score_selected_trees.append(to_left * to_right * to_top * to_bottom)"
   ]
  },
  {
   "cell_type": "code",
   "execution_count": 12,
   "metadata": {},
   "outputs": [],
   "source": [
    "# max(scenic_score_selected_trees)"
   ]
  },
  {
   "cell_type": "markdown",
   "metadata": {},
   "source": [
    "### Submission\n",
    "\n",
    "Submitted answers:\n",
    "* Answer 1 = 1832\n",
    "* Answer 2 = 157320"
   ]
  }
 ],
 "metadata": {
  "kernelspec": {
   "display_name": "Python 3 (ipykernel)",
   "language": "python",
   "name": "python3"
  },
  "language_info": {
   "codemirror_mode": {
    "name": "ipython",
    "version": 3
   },
   "file_extension": ".py",
   "mimetype": "text/x-python",
   "name": "python",
   "nbconvert_exporter": "python",
   "pygments_lexer": "ipython3",
   "version": "3.10.0"
  }
 },
 "nbformat": 4,
 "nbformat_minor": 4
}
