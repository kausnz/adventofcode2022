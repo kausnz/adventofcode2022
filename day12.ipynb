{
 "cells": [
  {
   "cell_type": "markdown",
   "metadata": {},
   "source": [
    "# Day 12\n",
    "\n",
    "[https://adventofcode.com/2022/day/12]()"
   ]
  },
  {
   "cell_type": "code",
   "execution_count": null,
   "metadata": {
    "collapsed": false,
    "jupyter": {
     "outputs_hidden": false
    }
   },
   "outputs": [],
   "source": [
    "import string\n",
    "from typing import List\n",
    "from anytree import Node, Walker\n",
    "from tqdm.auto import tqdm"
   ]
  },
  {
   "cell_type": "code",
   "execution_count": null,
   "metadata": {
    "collapsed": false,
    "jupyter": {
     "outputs_hidden": false
    }
   },
   "outputs": [],
   "source": [
    "with open('./inputs/day12_input_test.txt') as file:\n",
    "    lines: List = [line.rstrip().split(',') for line in file]\n",
    "    lines = [list(l[0]) for l in lines]\n",
    "lines"
   ]
  },
  {
   "cell_type": "code",
   "execution_count": null,
   "outputs": [],
   "source": [
    "WIDTH = len(lines[0])\n",
    "HEIGHT = len(lines)\n",
    "\n",
    "cell_id = 0\n",
    "cells = dict()\n",
    "for i, line in enumerate(lines):\n",
    "    for j, tree_height in enumerate(line):\n",
    "        # print(f'{i},{j}')\n",
    "        if i == 0 and j == 0:\n",
    "            cells[cell_id] = (tree_height, [cell_id + 1, cell_id + WIDTH])\n",
    "        elif i == 0 and j == WIDTH - 1:\n",
    "            cells[cell_id] = (tree_height, [cell_id - 1, cell_id + WIDTH])\n",
    "        elif i == HEIGHT - 1 and j == 0:\n",
    "            cells[cell_id] = (tree_height, [cell_id - WIDTH - 1, cell_id + 1])\n",
    "        elif i == HEIGHT - 1 and j == WIDTH - 1:\n",
    "            cells[cell_id] = (tree_height, [cell_id - 1, cell_id - WIDTH])\n",
    "        elif j == 0:\n",
    "            cells[cell_id] = (tree_height, [cell_id - WIDTH, cell_id + 1, cell_id + WIDTH])\n",
    "        elif i == 0:\n",
    "            cells[cell_id] = (tree_height, [cell_id - 1, cell_id + 1, cell_id + WIDTH])\n",
    "        elif j == WIDTH - 1:\n",
    "            cells[cell_id] = (tree_height, [cell_id - 1, cell_id - WIDTH, cell_id + WIDTH])\n",
    "        elif i == HEIGHT - 1:\n",
    "            cells[cell_id] = (tree_height, [cell_id - 1, cell_id + 1, cell_id - WIDTH])\n",
    "        else:\n",
    "            cells[cell_id] = (tree_height, [cell_id - 1, cell_id - WIDTH, cell_id + 1, cell_id + WIDTH])\n",
    "\n",
    "        cell_id += 1\n"
   ],
   "metadata": {
    "collapsed": false
   }
  },
  {
   "cell_type": "code",
   "execution_count": null,
   "outputs": [],
   "source": [
    "WIDTH, HEIGHT"
   ],
   "metadata": {
    "collapsed": false
   }
  },
  {
   "cell_type": "code",
   "execution_count": null,
   "outputs": [],
   "source": [
    "char_height_map = dict(zip(list(string.ascii_lowercase), list(range(0, len(string.ascii_lowercase)))))\n",
    "char_height_map['S'] = 0\n",
    "char_height_map['E'] = len(string.ascii_lowercase) - 1\n",
    "\n",
    "\n",
    "def get_height(_c):\n",
    "    return char_height_map.get(_c)\n",
    "\n",
    "\n",
    "def get_cell_id(symbol):\n",
    "    for k, v in cells.items():\n",
    "        if v[0] == symbol: return k"
   ],
   "metadata": {
    "collapsed": false
   }
  },
  {
   "cell_type": "code",
   "execution_count": null,
   "outputs": [],
   "source": [
    "root = Node('_')\n",
    "start_cell_id, end_cell_id = get_cell_id('S'), get_cell_id('E')\n",
    "start_cell_id, end_cell_id"
   ],
   "metadata": {
    "collapsed": false
   }
  },
  {
   "cell_type": "code",
   "execution_count": null,
   "outputs": [],
   "source": [
    "tree_nodes = dict()\n",
    "\n",
    "\n",
    "def create_tree_node(_id, _height_char, _parent_node):\n",
    "    node = Node(_id, height_char=_height_char, parent=_parent_node)\n",
    "    # print(f'Created new node for {_height_char} at {_id}:     {node}')\n",
    "    # print(f'Created new node for {_height_char} at {_id}')\n",
    "    return node"
   ],
   "metadata": {
    "collapsed": false
   }
  },
  {
   "cell_type": "code",
   "execution_count": null,
   "outputs": [],
   "source": [
    "def build_tree(_id, _cell, _parent_node: Node):\n",
    "    # if search.find(_parent_node.root, filter_=lambda n: n.name == _id) is not None:\n",
    "\n",
    "    current_node = create_tree_node(_id, _cell[0], _parent_node)\n",
    "\n",
    "    ancestors = [ancestor.name for ancestor in current_node.ancestors]\n",
    "\n",
    "    if _cell[0] == 'E':\n",
    "        print(f'Hit! {ancestors}')\n",
    "        return\n",
    "\n",
    "    for neighbor in tqdm(_cell[1]):\n",
    "        # print(f'   checking neighbor {neighbor} of {_cell[1]}, parent={current_node}')\n",
    "\n",
    "        if len(ancestors) > (WIDTH * HEIGHT):\n",
    "            print(f'Ceiling! {ancestors}')\n",
    "            break\n",
    "\n",
    "        if neighbor in ancestors:\n",
    "            # print(f'           {neighbor} is an ancestor. Skipping... (ancestors={ancestors})')\n",
    "            continue\n",
    "\n",
    "        if get_height(_cell[0]) + 1 >= get_height(cells[neighbor][0]):\n",
    "            build_tree(neighbor, cells[neighbor], current_node)\n",
    "\n",
    "    # print(f'     ancestor count = {len(ancestors)}')"
   ],
   "metadata": {
    "collapsed": false
   }
  },
  {
   "cell_type": "code",
   "execution_count": null,
   "outputs": [],
   "source": [
    "build_tree(start_cell_id, cells[start_cell_id], root)\n",
    "# print(RenderTree(root, style=AsciiStyle()).by_attr())"
   ],
   "metadata": {
    "collapsed": false,
    "pycharm": {
     "is_executing": true
    }
   }
  },
  {
   "cell_type": "code",
   "execution_count": null,
   "outputs": [],
   "source": [
    "w = Walker()\n",
    "min([len(w.walk(root, leaf)[2]) for leaf in list(filter(lambda l: l.name == end_cell_id, root.leaves))]) - 1"
   ],
   "metadata": {
    "collapsed": false,
    "pycharm": {
     "is_executing": true
    }
   }
  },
  {
   "cell_type": "markdown",
   "source": [
    "### Answer 1"
   ],
   "metadata": {
    "collapsed": false
   }
  },
  {
   "cell_type": "markdown",
   "metadata": {},
   "source": [
    "### Answer 2"
   ]
  },
  {
   "cell_type": "markdown",
   "metadata": {},
   "source": [
    "### Submission\n",
    "\n",
    "Submitted answers:\n",
    "* Answer 1 =\n",
    "* Answer 2 ="
   ]
  }
 ],
 "metadata": {
  "kernelspec": {
   "display_name": "Python 3 (ipykernel)",
   "language": "python",
   "name": "python3"
  },
  "language_info": {
   "codemirror_mode": {
    "name": "ipython",
    "version": 3
   },
   "file_extension": ".py",
   "mimetype": "text/x-python",
   "name": "python",
   "nbconvert_exporter": "python",
   "pygments_lexer": "ipython3",
   "version": "3.10.0"
  }
 },
 "nbformat": 4,
 "nbformat_minor": 4
}
