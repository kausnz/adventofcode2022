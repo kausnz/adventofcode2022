{
 "cells": [
  {
   "cell_type": "markdown",
   "metadata": {},
   "source": [
    "# Day 5\n",
    "\n",
    "[https://adventofcode.com/2022/day/5]()"
   ]
  },
  {
   "cell_type": "code",
   "execution_count": 372,
   "outputs": [],
   "source": [
    "from typing import List, Tuple\n",
    "import re"
   ],
   "metadata": {
    "collapsed": false
   }
  },
  {
   "cell_type": "code",
   "execution_count": 373,
   "outputs": [],
   "source": [
    "with open('./inputs/day05_input_full.txt') as file:\n",
    "    lines: List = [line.rstrip().split(',') for line in file]\n",
    "lines = [l[0] for l in lines[lines.index(['']) + 1:]]"
   ],
   "metadata": {
    "collapsed": false
   }
  },
  {
   "cell_type": "markdown",
   "source": [
    "### Answer 1"
   ],
   "metadata": {
    "collapsed": false
   }
  },
  {
   "cell_type": "code",
   "execution_count": 374,
   "outputs": [],
   "source": [
    "stacks = {\n",
    "    1: ['R', 'G', 'J', 'B', 'T', 'V', 'Z'],\n",
    "    2: ['J', 'R', 'V', 'L'],\n",
    "    3: ['S', 'Q', 'F'],\n",
    "    4: ['Z', 'H', 'N', 'L', 'F', 'V', 'Q', 'G'],\n",
    "    5: ['R', 'Q', 'T', 'J', 'C', 'S', 'M', 'W'],\n",
    "    6: ['S', 'W', 'T', 'C', 'H', 'F'],\n",
    "    7: ['D', 'Z', 'C', 'V', 'F', 'N', 'J'],\n",
    "    8: ['L', 'G', 'Z', 'D', 'W', 'R', 'F', 'Q'],\n",
    "    9: ['J', 'B', 'W', 'V', 'P'],\n",
    "}"
   ],
   "metadata": {
    "collapsed": false
   }
  },
  {
   "cell_type": "code",
   "execution_count": 375,
   "outputs": [],
   "source": [
    "def move(movement:Tuple, stks):\n",
    "    n, src, dst = movement\n",
    "    for i in range(n):\n",
    "        stks[dst].append(stks[src].pop())"
   ],
   "metadata": {
    "collapsed": false
   }
  },
  {
   "cell_type": "code",
   "execution_count": 376,
   "outputs": [],
   "source": [
    "def get_movement(s:str):\n",
    "    m = re.match('move (\\d+) from (\\d+) to (\\d+)', s)\n",
    "    return tuple([int(g) for g in m.groups()])"
   ],
   "metadata": {
    "collapsed": false
   }
  },
  {
   "cell_type": "code",
   "execution_count": 377,
   "outputs": [
    {
     "data": {
      "text/plain": "'ZSQVCCJLL'"
     },
     "execution_count": 377,
     "metadata": {},
     "output_type": "execute_result"
    }
   ],
   "source": [
    "list(map(lambda m: move(m, stacks), list(map(get_movement, lines))))\n",
    "''.join([v[-1] for v in stacks.values()])"
   ],
   "metadata": {
    "collapsed": false
   }
  },
  {
   "cell_type": "markdown",
   "source": [
    "### Answer 2"
   ],
   "metadata": {
    "collapsed": false
   }
  },
  {
   "cell_type": "code",
   "execution_count": 378,
   "outputs": [],
   "source": [
    "stacks = {\n",
    "    1: ['R', 'G', 'J', 'B', 'T', 'V', 'Z'],\n",
    "    2: ['J', 'R', 'V', 'L'],\n",
    "    3: ['S', 'Q', 'F'],\n",
    "    4: ['Z', 'H', 'N', 'L', 'F', 'V', 'Q', 'G'],\n",
    "    5: ['R', 'Q', 'T', 'J', 'C', 'S', 'M', 'W'],\n",
    "    6: ['S', 'W', 'T', 'C', 'H', 'F'],\n",
    "    7: ['D', 'Z', 'C', 'V', 'F', 'N', 'J'],\n",
    "    8: ['L', 'G', 'Z', 'D', 'W', 'R', 'F', 'Q'],\n",
    "    9: ['J', 'B', 'W', 'V', 'P'],\n",
    "}"
   ],
   "metadata": {
    "collapsed": false
   }
  },
  {
   "cell_type": "code",
   "execution_count": 379,
   "outputs": [],
   "source": [
    "def move9001(movement:Tuple, stks):\n",
    "    n, src, dst = movement\n",
    "    stks[dst] = stks[dst] + stks[src][-n:]\n",
    "    del stks[src][-n:]"
   ],
   "metadata": {
    "collapsed": false
   }
  },
  {
   "cell_type": "code",
   "execution_count": 380,
   "outputs": [
    {
     "data": {
      "text/plain": "'QZFJRWHGS'"
     },
     "execution_count": 380,
     "metadata": {},
     "output_type": "execute_result"
    }
   ],
   "source": [
    "list(map(lambda m: move9001(m, stacks), list(map(get_movement, lines))))\n",
    "''.join([v[-1] for v in stacks.values()])"
   ],
   "metadata": {
    "collapsed": false
   }
  },
  {
   "cell_type": "markdown",
   "metadata": {},
   "source": [
    "### Submission"
   ]
  },
  {
   "cell_type": "markdown",
   "source": [
    "Submitted answers:\n",
    "* Answer 1 = ZSQVCCJLL\n",
    "* Answer 2 = QZFJRWHGS"
   ],
   "metadata": {
    "collapsed": false
   }
  }
 ],
 "metadata": {
  "kernelspec": {
   "display_name": "Python 3 (ipykernel)",
   "language": "python",
   "name": "python3"
  },
  "language_info": {
   "codemirror_mode": {
    "name": "ipython",
    "version": 3
   },
   "file_extension": ".py",
   "mimetype": "text/x-python",
   "name": "python",
   "nbconvert_exporter": "python",
   "pygments_lexer": "ipython3",
   "version": "3.10.8"
  }
 },
 "nbformat": 4,
 "nbformat_minor": 4
}
