{
 "cells": [
  {
   "cell_type": "markdown",
   "source": [
    "# Day 2\n",
    "\n",
    "[https://adventofcode.com/2022/day/2]()"
   ],
   "metadata": {
    "collapsed": false
   }
  },
  {
   "cell_type": "code",
   "execution_count": 48,
   "outputs": [],
   "source": [
    "import pandas as pd"
   ],
   "metadata": {
    "collapsed": false
   }
  },
  {
   "cell_type": "markdown",
   "source": [
    "### Answer 1"
   ],
   "metadata": {
    "collapsed": false
   }
  },
  {
   "cell_type": "code",
   "execution_count": 49,
   "outputs": [],
   "source": [
    "df = pd.read_table('./inputs/day02_input_full.txt', names=['opponent', 'me'], sep=' ')\n",
    "df.opponent = df.opponent.map({'A': 'R', 'B': 'P', 'C': 'S'})\n",
    "df.me = df.me.map({'X': 'R', 'Y': 'P', 'Z': 'S'})"
   ],
   "metadata": {
    "collapsed": false
   }
  },
  {
   "cell_type": "code",
   "execution_count": 50,
   "outputs": [],
   "source": [
    "win = ['RP', 'PS', 'SR']\n",
    "lost = ['RS', 'PR', 'SP']\n",
    "draw = ['RR', 'PP', 'SS']"
   ],
   "metadata": {
    "collapsed": false
   }
  },
  {
   "cell_type": "code",
   "execution_count": 51,
   "outputs": [],
   "source": [
    "def get_result(r):\n",
    "    v = f'{r.opponent}{r.me}'\n",
    "    if win.count(v.upper()): return 'W'\n",
    "    if lost.count(v.upper()): return 'L'\n",
    "    if draw.count(v.upper()): return 'D'\n",
    "    raise v\n",
    "\n",
    "def cal_score(r):\n",
    "    score = {'W': 6, 'L': 0, 'D': 3}.get(r.result) + {'R': 1, 'P': 2, 'S': 3}.get(r.me)\n",
    "    return score"
   ],
   "metadata": {
    "collapsed": false
   }
  },
  {
   "cell_type": "code",
   "execution_count": 52,
   "outputs": [],
   "source": [
    "df['result'] = df.apply(get_result, axis=1)\n",
    "df['score'] = df.apply(cal_score, axis=1)"
   ],
   "metadata": {
    "collapsed": false
   }
  },
  {
   "cell_type": "code",
   "execution_count": 53,
   "outputs": [
    {
     "data": {
      "text/plain": "13682"
     },
     "execution_count": 53,
     "metadata": {},
     "output_type": "execute_result"
    }
   ],
   "source": [
    "df.score.sum()"
   ],
   "metadata": {
    "collapsed": false
   }
  },
  {
   "cell_type": "code",
   "execution_count": 54,
   "outputs": [],
   "source": [
    "# top_elf = sorted(elf_cal_map.items(), key=lambda rec: sum(rec[1]), reverse=True)[0]\n",
    "# sum(top_elf[1])"
   ],
   "metadata": {
    "collapsed": false
   }
  },
  {
   "cell_type": "markdown",
   "source": [
    "### Answer 2"
   ],
   "metadata": {
    "collapsed": false
   }
  },
  {
   "cell_type": "code",
   "execution_count": 55,
   "outputs": [],
   "source": [
    "df = pd.read_table('./inputs/day02_input_full.txt', names=['opponent', 'result'], sep=' ')\n",
    "\n",
    "# Converting opponent's move code to a more readable code\n",
    "# R for Rock, P for Paper, S for Scissors\n",
    "df.opponent = df.opponent.map({'A': 'R', 'B': 'P', 'C': 'S'})\n",
    "\n",
    "# Converting result code to a more readable code\n",
    "# L for Lose, D for Draw, W for Win\n",
    "df.result = df.result.map({'X': 'L', 'Y': 'D', 'Z': 'W'})\n",
    "\n",
    "# For each outcome, what should be my move for a given opponent move.\n",
    "# {outcome: {opp_move: my_move, ...}, ...}\n",
    "result_to_move_map = {'L': {'R': 'S', 'P': 'R', 'S': 'P'},\n",
    "                      'D': {'R': 'R', 'P': 'P', 'S': 'S'},\n",
    "                      'W': {'R': 'P', 'P': 'S', 'S': 'R'}}"
   ],
   "metadata": {
    "collapsed": false
   }
  },
  {
   "cell_type": "code",
   "execution_count": 56,
   "outputs": [],
   "source": [
    "df['me'] = df.apply(lambda r: result_to_move_map.get(r.result).get(r.opponent), axis=1)"
   ],
   "metadata": {
    "collapsed": false
   }
  },
  {
   "cell_type": "code",
   "execution_count": 57,
   "outputs": [
    {
     "data": {
      "text/plain": "     opponent result me  score\n0           S      W  R      7\n1           S      W  R      7\n2           S      D  S      6\n3           S      W  R      7\n4           S      W  R      7\n...       ...    ... ..    ...\n2495        R      D  R      4\n2496        S      W  R      7\n2497        R      D  R      4\n2498        S      W  R      7\n2499        R      D  R      4\n\n[2500 rows x 4 columns]",
      "text/html": "<div>\n<style scoped>\n    .dataframe tbody tr th:only-of-type {\n        vertical-align: middle;\n    }\n\n    .dataframe tbody tr th {\n        vertical-align: top;\n    }\n\n    .dataframe thead th {\n        text-align: right;\n    }\n</style>\n<table border=\"1\" class=\"dataframe\">\n  <thead>\n    <tr style=\"text-align: right;\">\n      <th></th>\n      <th>opponent</th>\n      <th>result</th>\n      <th>me</th>\n      <th>score</th>\n    </tr>\n  </thead>\n  <tbody>\n    <tr>\n      <th>0</th>\n      <td>S</td>\n      <td>W</td>\n      <td>R</td>\n      <td>7</td>\n    </tr>\n    <tr>\n      <th>1</th>\n      <td>S</td>\n      <td>W</td>\n      <td>R</td>\n      <td>7</td>\n    </tr>\n    <tr>\n      <th>2</th>\n      <td>S</td>\n      <td>D</td>\n      <td>S</td>\n      <td>6</td>\n    </tr>\n    <tr>\n      <th>3</th>\n      <td>S</td>\n      <td>W</td>\n      <td>R</td>\n      <td>7</td>\n    </tr>\n    <tr>\n      <th>4</th>\n      <td>S</td>\n      <td>W</td>\n      <td>R</td>\n      <td>7</td>\n    </tr>\n    <tr>\n      <th>...</th>\n      <td>...</td>\n      <td>...</td>\n      <td>...</td>\n      <td>...</td>\n    </tr>\n    <tr>\n      <th>2495</th>\n      <td>R</td>\n      <td>D</td>\n      <td>R</td>\n      <td>4</td>\n    </tr>\n    <tr>\n      <th>2496</th>\n      <td>S</td>\n      <td>W</td>\n      <td>R</td>\n      <td>7</td>\n    </tr>\n    <tr>\n      <th>2497</th>\n      <td>R</td>\n      <td>D</td>\n      <td>R</td>\n      <td>4</td>\n    </tr>\n    <tr>\n      <th>2498</th>\n      <td>S</td>\n      <td>W</td>\n      <td>R</td>\n      <td>7</td>\n    </tr>\n    <tr>\n      <th>2499</th>\n      <td>R</td>\n      <td>D</td>\n      <td>R</td>\n      <td>4</td>\n    </tr>\n  </tbody>\n</table>\n<p>2500 rows × 4 columns</p>\n</div>"
     },
     "execution_count": 57,
     "metadata": {},
     "output_type": "execute_result"
    }
   ],
   "source": [
    "df['score'] = df.apply(cal_score, axis=1)\n",
    "df"
   ],
   "metadata": {
    "collapsed": false
   }
  },
  {
   "cell_type": "code",
   "execution_count": 58,
   "outputs": [
    {
     "data": {
      "text/plain": "12881"
     },
     "execution_count": 58,
     "metadata": {},
     "output_type": "execute_result"
    }
   ],
   "source": [
    "df.score.sum()"
   ],
   "metadata": {
    "collapsed": false
   }
  },
  {
   "cell_type": "markdown",
   "source": [
    "### Submission"
   ],
   "metadata": {
    "collapsed": false
   }
  },
  {
   "cell_type": "markdown",
   "source": [
    "Submitted answers:\n",
    "* Answer 1 = 13682\n",
    "* Answer 2 = 12881"
   ],
   "metadata": {
    "collapsed": false
   }
  },
  {
   "cell_type": "code",
   "execution_count": 58,
   "outputs": [],
   "source": [],
   "metadata": {
    "collapsed": false
   }
  }
 ],
 "metadata": {
  "kernelspec": {
   "display_name": "Python 3",
   "language": "python",
   "name": "python3"
  },
  "language_info": {
   "codemirror_mode": {
    "name": "ipython",
    "version": 2
   },
   "file_extension": ".py",
   "mimetype": "text/x-python",
   "name": "python",
   "nbconvert_exporter": "python",
   "pygments_lexer": "ipython2",
   "version": "2.7.6"
  }
 },
 "nbformat": 4,
 "nbformat_minor": 0
}
