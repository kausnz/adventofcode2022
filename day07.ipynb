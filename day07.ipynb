{
 "cells": [
  {
   "cell_type": "markdown",
   "metadata": {},
   "source": [
    "# Day 7\n",
    "\n",
    "[https://adventofcode.com/2022/day/7]()"
   ]
  },
  {
   "cell_type": "code",
   "execution_count": 266,
   "outputs": [],
   "source": [
    "from typing import List\n",
    "import re"
   ],
   "metadata": {
    "collapsed": false
   }
  },
  {
   "cell_type": "code",
   "execution_count": 267,
   "outputs": [],
   "source": [
    "with open('./inputs/day07_input_full.txt') as file:\n",
    "    lines: List = [line.rstrip().split(',') for line in file]\n",
    "    lines = [l[0] for l in lines]"
   ],
   "metadata": {
    "collapsed": false
   }
  },
  {
   "cell_type": "code",
   "execution_count": 268,
   "outputs": [],
   "source": [
    "class Node:\n",
    "    \"\"\"\n",
    "    Represents a node in the file system hierarchy. This can be a directory or a file.\n",
    "    \"\"\"\n",
    "    parent = None\n",
    "    name: str = None\n",
    "    type: None\n",
    "    size: int = None\n",
    "    children = []\n",
    "\n",
    "    def __init__(self, parent, name, type='dir', size=0):\n",
    "        self.parent = parent\n",
    "        self.name = name\n",
    "        self.type = type\n",
    "        self.size = size\n",
    "        self.children = []\n",
    "\n",
    "    def __repr__(self):\n",
    "        return f'Node(name={self.name}, type={self.type}, parent={None if self.parent is None else self.parent.name}, size={self.size}, child_count={len(self.children)})'\n",
    "\n",
    "    def add_child(self, node):\n",
    "        self.children.append(node)\n",
    "        node.parent = self\n",
    "\n",
    "    def has_children(self):\n",
    "        return len(self.children) > 0"
   ],
   "metadata": {
    "collapsed": false
   }
  },
  {
   "cell_type": "code",
   "execution_count": 269,
   "outputs": [],
   "source": [
    "def parse(ptr: Node, line: str):\n",
    "    \"\"\" Parse a line in the command output\"\"\"\n",
    "\n",
    "    # Match 'cd' command\n",
    "    m = re.match('^\\$ (cd) (.+)', line)\n",
    "    if m is not None:\n",
    "        if m.group(2) == '..':\n",
    "            # move one level up the tree\n",
    "            return ptr.parent\n",
    "        else:\n",
    "            # when changing to a dir, create a new node to represent it and add to the current pointer as a child\n",
    "            new_dir = Node(None if m.group(2) == '/' else ptr, name=m.group(2))\n",
    "            ptr.add_child(new_dir)\n",
    "            return new_dir\n",
    "\n",
    "    # Match files in the 'ls' output. Note that I'm ignoring dir lines from the 'ls' output as I create the dir node at 'cd' (above).\n",
    "    m = re.match('^(\\d+) (.+)', line)\n",
    "    if m is not None:\n",
    "        new_file = Node(ptr, name=m.group(2), type='file', size=int(m.group(1)))\n",
    "        ptr.add_child(new_file)\n",
    "\n",
    "    return ptr"
   ],
   "metadata": {
    "collapsed": false
   }
  },
  {
   "cell_type": "code",
   "execution_count": 270,
   "outputs": [],
   "source": [
    "wrapper = Node(None, None)\n",
    "pointer = wrapper\n",
    "for l in lines:\n",
    "    pointer = parse(pointer, l)"
   ],
   "metadata": {
    "collapsed": false
   }
  },
  {
   "cell_type": "code",
   "execution_count": 271,
   "outputs": [],
   "source": [
    "def calc_dir_size(node):\n",
    "    \"\"\" Traverse the filesystem hierarchy depth-first and calculate the size of the containing directory as it traverse back up\"\"\"\n",
    "    if node.has_children():\n",
    "        for c in node.children:\n",
    "            node.size += calc_dir_size(c)\n",
    "    return node.size"
   ],
   "metadata": {
    "collapsed": false
   }
  },
  {
   "cell_type": "code",
   "execution_count": 272,
   "outputs": [],
   "source": [
    "# Ignore 'start', which is a wrapper node. What I need it the root.\n",
    "root = wrapper.children[0]"
   ],
   "metadata": {
    "collapsed": false
   }
  },
  {
   "cell_type": "code",
   "execution_count": 273,
   "outputs": [
    {
     "data": {
      "text/plain": "40572957"
     },
     "execution_count": 273,
     "metadata": {},
     "output_type": "execute_result"
    }
   ],
   "source": [
    "calc_dir_size(root)"
   ],
   "metadata": {
    "collapsed": false
   }
  },
  {
   "cell_type": "code",
   "execution_count": 274,
   "outputs": [
    {
     "data": {
      "text/plain": "Node(name=/, type=dir, parent=None, size=40572957, child_count=9)"
     },
     "execution_count": 274,
     "metadata": {},
     "output_type": "execute_result"
    }
   ],
   "source": [
    "# Check the root if the totals match with what's in the quiz\n",
    "root"
   ],
   "metadata": {
    "collapsed": false
   }
  },
  {
   "cell_type": "code",
   "execution_count": 275,
   "outputs": [],
   "source": [
    "def filter_nodes(node, pred):\n",
    "    \"\"\" Select nodes in the filesystem hierarchy that satisfies a given predicate\"\"\"\n",
    "    bucket = []\n",
    "    if node.has_children():\n",
    "        for c in node.children:\n",
    "            bucket += filter_nodes(c, pred)\n",
    "    return ([node] if pred(node) else []) + bucket"
   ],
   "metadata": {
    "collapsed": false
   }
  },
  {
   "cell_type": "markdown",
   "source": [
    "\n",
    "### Answer 1"
   ],
   "metadata": {
    "collapsed": false
   }
  },
  {
   "cell_type": "code",
   "execution_count": 276,
   "outputs": [],
   "source": [
    "def max_100000(c):\n",
    "    \"\"\" A predicate to filter the directories with its total size at most 100000\"\"\"\n",
    "    return c.type == 'dir' and c.size <= 100000"
   ],
   "metadata": {
    "collapsed": false
   }
  },
  {
   "cell_type": "code",
   "execution_count": 277,
   "outputs": [
    {
     "data": {
      "text/plain": "1447046"
     },
     "execution_count": 277,
     "metadata": {},
     "output_type": "execute_result"
    }
   ],
   "source": [
    "result = filter_nodes(root, max_100000)\n",
    "sum([r.size for r in result])"
   ],
   "metadata": {
    "collapsed": false
   }
  },
  {
   "cell_type": "markdown",
   "source": [
    "### Answer 2"
   ],
   "metadata": {
    "collapsed": false
   }
  },
  {
   "cell_type": "code",
   "execution_count": 278,
   "outputs": [
    {
     "data": {
      "text/plain": "40572957"
     },
     "execution_count": 278,
     "metadata": {},
     "output_type": "execute_result"
    }
   ],
   "source": [
    "total_disk_size = 70000000\n",
    "unused_space_required = 30000000\n",
    "currently_used = root.size\n",
    "currently_used"
   ],
   "metadata": {
    "collapsed": false
   }
  },
  {
   "cell_type": "code",
   "execution_count": 279,
   "outputs": [
    {
     "data": {
      "text/plain": "29427043"
     },
     "execution_count": 279,
     "metadata": {},
     "output_type": "execute_result"
    }
   ],
   "source": [
    "currently_free = total_disk_size - currently_used\n",
    "currently_free"
   ],
   "metadata": {
    "collapsed": false
   }
  },
  {
   "cell_type": "code",
   "execution_count": 280,
   "outputs": [
    {
     "data": {
      "text/plain": "572957"
     },
     "execution_count": 280,
     "metadata": {},
     "output_type": "execute_result"
    }
   ],
   "source": [
    "need_to_reclaim = unused_space_required - currently_free\n",
    "need_to_reclaim"
   ],
   "metadata": {
    "collapsed": false
   }
  },
  {
   "cell_type": "code",
   "execution_count": 281,
   "outputs": [
    {
     "data": {
      "text/plain": "578710"
     },
     "execution_count": 281,
     "metadata": {},
     "output_type": "execute_result"
    }
   ],
   "source": [
    "result = filter_nodes(root, lambda node: node.type == 'dir')\n",
    "sorted([n.size for n in (filter(lambda e: e.size >= need_to_reclaim, result))])[0]"
   ],
   "metadata": {
    "collapsed": false
   }
  },
  {
   "cell_type": "markdown",
   "metadata": {},
   "source": [
    "### Submission"
   ]
  },
  {
   "cell_type": "markdown",
   "source": [
    "Submitted answers:\n",
    "* Answer 1 = 1447046\n",
    "* Answer 2 = 578710"
   ],
   "metadata": {
    "collapsed": false
   }
  }
 ],
 "metadata": {
  "kernelspec": {
   "display_name": "Python 3 (ipykernel)",
   "language": "python",
   "name": "python3"
  },
  "language_info": {
   "codemirror_mode": {
    "name": "ipython",
    "version": 3
   },
   "file_extension": ".py",
   "mimetype": "text/x-python",
   "name": "python",
   "nbconvert_exporter": "python",
   "pygments_lexer": "ipython3",
   "version": "3.10.8"
  }
 },
 "nbformat": 4,
 "nbformat_minor": 4
}
